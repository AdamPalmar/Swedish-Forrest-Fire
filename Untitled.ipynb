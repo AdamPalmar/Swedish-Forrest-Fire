{
 "cells": [
  {
   "cell_type": "code",
   "execution_count": 5,
   "metadata": {
    "collapsed": false
   },
   "outputs": [],
   "source": [
    "import numpy as np\n",
    "import pandas as pd\n",
    "from pivottablejs import pivot_ui\n",
    "\n",
    "data = pd.read_csv(\"school_fire_cases_1998_2014.csv\")"
   ]
  },
  {
   "cell_type": "code",
   "execution_count": 6,
   "metadata": {
    "collapsed": false
   },
   "outputs": [
    {
     "data": {
      "text/html": [
       "\n",
       "        <iframe\n",
       "            width=\"100%\"\n",
       "            height=\"500\"\n",
       "            src=\"pivottablejs.html\"\n",
       "            frameborder=\"0\"\n",
       "            allowfullscreen\n",
       "        ></iframe>\n",
       "        "
      ],
      "text/plain": [
       "<IPython.lib.display.IFrame at 0x7f6925513ad0>"
      ]
     },
     "execution_count": 6,
     "metadata": {},
     "output_type": "execute_result"
    }
   ],
   "source": [
    "pivot_ui(data)"
   ]
  },
  {
   "cell_type": "code",
   "execution_count": 8,
   "metadata": {
    "collapsed": false
   },
   "outputs": [
    {
     "name": "stdout",
     "output_type": "stream",
     "text": [
      "kpis_1998_2003.csv\n",
      "kpis_2004_2008.csv\n",
      "kpis_2009_2011.csv\n",
      "kpis_2012_2013.csv\n",
      "municipality_indicators.csv\n",
      "pivottablejs.html\n",
      "school_fire_cases_1998_2014.csv\n",
      "simplified_municipality_indicators.csv\n",
      "Untitled.ipynb\n",
      "kpis_1998_2003.csv\n",
      "kpis_2004_2008.csv\n",
      "kpis_2009_2011.csv\n",
      "kpis_2012_2013.csv\n",
      "municipality_indicators.csv\n",
      "pivottablejs.html\n",
      "school_fire_cases_1998_2014.csv\n",
      "simplified_municipality_indicators.csv\n",
      "test\n",
      "Untitled.ipynb\n"
     ]
    }
   ],
   "source": []
  },
  {
   "cell_type": "code",
   "execution_count": null,
   "metadata": {
    "collapsed": true
   },
   "outputs": [],
   "source": []
  }
 ],
 "metadata": {
  "kernelspec": {
   "display_name": "Python [deeplearning]",
   "language": "python",
   "name": "Python [deeplearning]"
  },
  "language_info": {
   "codemirror_mode": {
    "name": "ipython",
    "version": 2
   },
   "file_extension": ".py",
   "mimetype": "text/x-python",
   "name": "python",
   "nbconvert_exporter": "python",
   "pygments_lexer": "ipython2",
   "version": "2.7.12"
  }
 },
 "nbformat": 4,
 "nbformat_minor": 0
}
