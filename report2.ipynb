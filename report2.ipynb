{
 "cells": [
  {
   "cell_type": "code",
   "execution_count": 155,
   "metadata": {
    "collapsed": true
   },
   "outputs": [],
   "source": [
    "import numpy as np\n",
    "import pandas as pd\n",
    "from pivottablejs import pivot_ui\n",
    "import matplotlib.pyplot as plt\n",
    "import matplotlib\n",
    "from sklearn import preprocessing \n",
    "matplotlib.style.use('ggplot')\n",
    "%matplotlib inline\n",
    "\n",
    "from pylab import rcParams\n",
    "rcParams['figure.figsize'] = 20, 20\n",
    "rcParams.update({'font.size': 30})\n",
    "rcParams.update({'figure.autolayout': True})\n",
    "\n",
    "data = pd.read_csv(\"cleanSet.csv\")"
   ]
  },
  {
   "cell_type": "code",
   "execution_count": 56,
   "metadata": {
    "collapsed": false
   },
   "outputs": [
    {
     "data": {
      "text/plain": [
       "(1, 100)"
      ]
     },
     "execution_count": 56,
     "metadata": {},
     "output_type": "execute_result"
    }
   ],
   "source": []
  },
  {
   "cell_type": "code",
   "execution_count": 7,
   "metadata": {
    "collapsed": false
   },
   "outputs": [],
   "source": []
  },
  {
   "cell_type": "code",
   "execution_count": 68,
   "metadata": {
    "collapsed": false
   },
   "outputs": [
    {
     "data": {
      "text/plain": [
       "DecisionTreeClassifier(class_weight=None, criterion='gini', max_depth=None,\n",
       "            max_features=None, max_leaf_nodes=None, min_samples_leaf=1,\n",
       "            min_samples_split=2, min_weight_fraction_leaf=0.0,\n",
       "            presort=False, random_state=None, splitter='best')"
      ]
     },
     "execution_count": 68,
     "metadata": {},
     "output_type": "execute_result"
    }
   ],
   "source": [
    "from sklearn import tree\n",
    "import numpy as np\n",
    "\n",
    "x = np.matrix(data['population'])\n",
    "y = np.matrix(data['Cases'])\n",
    "\n",
    "\n",
    "training_x = x[0,:261].T\n",
    "traning_y = y[0,:261].T\n",
    "\n",
    "test_x = x[0,261:].T\n",
    "test_y = y[0,261:].T\n",
    "\n",
    "\n",
    "\n",
    "classifier = tree.DecisionTreeClassifier()\n",
    "classifier.fit(training_x,traning_y)\n"
   ]
  },
  {
   "cell_type": "code",
   "execution_count": 77,
   "metadata": {
    "collapsed": false
   },
   "outputs": [
    {
     "name": "stdout",
     "output_type": "stream",
     "text": [
      "(261, 1)\n",
      "(29, 1)\n"
     ]
    }
   ],
   "source": [
    "print training_x.shape\n",
    "print test_x.shape"
   ]
  },
  {
   "cell_type": "code",
   "execution_count": 92,
   "metadata": {
    "collapsed": false
   },
   "outputs": [
    {
     "name": "stdout",
     "output_type": "stream",
     "text": [
      "27.0\n"
     ]
    }
   ],
   "source": [
    "error = test_y.T -np.matrix(classifier.predict(test_x))\n",
    "print np.sqrt(np.square(error)).sum()\n"
   ]
  },
  {
   "cell_type": "code",
   "execution_count": 140,
   "metadata": {
    "collapsed": false
   },
   "outputs": [
    {
     "name": "stdout",
     "output_type": "stream",
     "text": [
      "[ 0  2  5  0  0  0  0  0  0  0  1  0  0  0  0  0  2  0  0  0 11  0  0  0  0\n",
      "  0  0  0  0]\n",
      "[[0 0 1 1 0 0 1 0 0 0 0 0 0 3 0 0 0 0 1 0 7 0 0 1 0 0 0 0 0]]\n"
     ]
    }
   ],
   "source": [
    "from sklearn import tree\n",
    "import numpy as np\n",
    "\n",
    "x = np.matrix(data.drop('Cases',axis=1).dropna())\n",
    "y = np.matrix(data['Cases'])\n",
    "\n",
    "\n",
    "training_x = x[:261,:]\n",
    "training_y = y[0,:261].T\n",
    "\n",
    "test_x = x[261:,:]\n",
    "test_y = y[0,261:].T\n",
    "\n",
    "\n",
    "\n",
    "classifier = tree.DecisionTreeClassifier()\n",
    "classifier.fit(training_x,training_y)\n",
    "\n",
    "print classifier.predict(test_x)\n",
    "print test_y.T[0,:]"
   ]
  },
  {
   "cell_type": "code",
   "execution_count": 128,
   "metadata": {
    "collapsed": false
   },
   "outputs": [
    {
     "name": "stdout",
     "output_type": "stream",
     "text": [
      "(261, 15)\n",
      "(261, 1)\n"
     ]
    }
   ],
   "source": [
    "print training_x.shape\n",
    "print training_y.shape"
   ]
  },
  {
   "cell_type": "code",
   "execution_count": 194,
   "metadata": {
    "collapsed": false
   },
   "outputs": [
    {
     "name": "stdout",
     "output_type": "stream",
     "text": [
      "[0 1 1 0 0 0 0 0 0 0 0 0 0 0 0 0 0 0 0 0 1 0 1 1 0 0 0 0 0]\n",
      "[[0 0 1 1 0 0 1 0 0 0 0 0 0 1 0 0 0 0 1 0 1 0 0 1 0 0 0 0 0]]\n",
      "6.0\n"
     ]
    }
   ],
   "source": [
    "def f(x):\n",
    "    if x > 0:\n",
    "        return 1\n",
    "    else:\n",
    "        return 0\n",
    "\n",
    "from sklearn import tree\n",
    "import numpy as np\n",
    "\n",
    "x = np.matrix(data.drop('Cases',axis=1).dropna())\n",
    "y = np.matrix(data['Cases'].apply(f))\n",
    "\n",
    "training_x = x[:261,:]\n",
    "training_y = y[0,:261].T\n",
    "\n",
    "test_x = x[261:,:]\n",
    "test_y = y[0,261:].T\n",
    "\n",
    "\n",
    "\n",
    "classifier = tree.DecisionTreeClassifier(min_samples_split=100)\n",
    "classifier.fit(training_x,training_y)\n",
    "\n",
    "print classifier.predict(test_x)\n",
    "print test_y.T[0,:]\n",
    "    \n",
    "\n",
    "error = test_y.T[0,:] - classifier.predict(test_x)\n",
    "print np.sqrt(np.square(error)).sum()\n"
   ]
  },
  {
   "cell_type": "code",
   "execution_count": 182,
   "metadata": {
    "collapsed": false
   },
   "outputs": [
    {
     "name": "stderr",
     "output_type": "stream",
     "text": [
      "/home/adam/anaconda2/envs/deeplearning/lib/python2.7/site-packages/ipykernel/__main__.py:22: DataConversionWarning: A column-vector y was passed when a 1d array was expected. Please change the shape of y to (n_samples,), for example using ravel().\n"
     ]
    },
    {
     "name": "stdout",
     "output_type": "stream",
     "text": [
      "[0 1 1 0 0 0 0 0 0 0 0 0 0 0 0 0 1 0 0 0 1 0 0 1 0 0 0 0 0]\n",
      "[[0 0 1 1 0 0 1 0 0 0 0 0 0 1 0 0 0 0 1 0 1 0 0 1 0 0 0 0 0]]\n",
      "0.793103448276\n"
     ]
    }
   ],
   "source": [
    "def f(x):\n",
    "    if x > 0:\n",
    "        return 1\n",
    "    else:\n",
    "        return 0\n",
    "\n",
    "from sklearn.ensemble import RandomForestClassifier\n",
    "import numpy as np\n",
    "\n",
    "x = np.matrix(data.drop('Cases',axis=1).dropna())\n",
    "y = np.matrix(data['Cases'].apply(f))\n",
    "\n",
    "training_x = x[:261,:]\n",
    "training_y = y[0,:261].T\n",
    "\n",
    "test_x = x[261:,:]\n",
    "test_y = y[0,261:].T\n",
    "\n",
    "\n",
    "\n",
    "classifier = RandomForestClassifier(n_estimators=100)\n",
    "classifier.fit(training_x,training_y)\n",
    "\n",
    "print classifier.predict(test_x)\n",
    "print test_y.T[0,:]\n",
    "    \n",
    "\n",
    "error = test_y.T[0,:] - classifier.predict(test_x)\n",
    "print 1- np.sqrt(np.square(error)).sum()/len(test_x)\n"
   ]
  },
  {
   "cell_type": "code",
   "execution_count": 197,
   "metadata": {
    "collapsed": false
   },
   "outputs": [
    {
     "name": "stdout",
     "output_type": "stream",
     "text": [
      "[0 0 0 0 0 0 0 0 0 0 0 0 1 1 0 0 0 0 0 0 0 0 0 0 0 0 0 0 0 0 0 1 0 0 1 0 0\n",
      " 0 0 0]\n",
      "[[0 0 1 0 0 0 0 0 0 0 0 0 0 1 1 0 0 1 0 0 0 0 0 0 1 0 0 0 0 1 0 1 0 0 1 0 0\n",
      "  0 0 0]]\n",
      "0.85\n"
     ]
    },
    {
     "name": "stderr",
     "output_type": "stream",
     "text": [
      "/home/adam/anaconda2/envs/deeplearning/lib/python2.7/site-packages/sklearn/utils/validation.py:515: DataConversionWarning: A column-vector y was passed when a 1d array was expected. Please change the shape of y to (n_samples, ), for example using ravel().\n",
      "  y = column_or_1d(y, warn=True)\n"
     ]
    }
   ],
   "source": [
    "from sklearn.linear_model import LogisticRegression\n",
    "##Regression\n",
    "def f(x):\n",
    "    if x > 0:\n",
    "        return 1\n",
    "    else:\n",
    "        return 0\n",
    "import numpy as np\n",
    "\n",
    "x = np.matrix(data.drop('Cases',axis=1).dropna())\n",
    "y = np.matrix(data['Cases'].apply(f))\n",
    "\n",
    "count = 250\n",
    "\n",
    "training_x = x[:count,:]\n",
    "training_y = y[0,:count].T\n",
    "\n",
    "test_x = x[count:,:]\n",
    "test_y = y[0,count:].T\n",
    "\n",
    "\n",
    "\n",
    "classifier = LogisticRegression()\n",
    "classifier.fit(training_x,training_y)\n",
    "\n",
    "print classifier.predict(test_x)\n",
    "print test_y.T[0,:]\n",
    "\n",
    "\n",
    "error = test_y.T[0,:] - classifier.predict(test_x)\n",
    "print 1- np.sqrt(np.square(error)).sum()/len(test_x)\n"
   ]
  },
  {
   "cell_type": "code",
   "execution_count": 221,
   "metadata": {
    "collapsed": false
   },
   "outputs": [
    {
     "data": {
      "text/plain": [
       "2436"
      ]
     },
     "execution_count": 221,
     "metadata": {},
     "output_type": "execute_result"
    }
   ],
   "source": [
    "case_popu = np.matrix(data[['Cases','population']])\n",
    "\n"
   ]
  },
  {
   "cell_type": "code",
   "execution_count": 298,
   "metadata": {
    "collapsed": false
   },
   "outputs": [
    {
     "name": "stdout",
     "output_type": "stream",
     "text": [
      "0.850826481239 Mean squared error\n",
      "Error (90, 1)\n"
     ]
    }
   ],
   "source": [
    "#Number of fire per 1000 \n",
    "\n",
    "\n",
    "from sklearn.linear_model import LinearRegression\n",
    "##Regression\n",
    "def f(x):\n",
    "    if x > 0:\n",
    "        return 1\n",
    "    else:\n",
    "        return 0\n",
    "import numpy as np\n",
    "\n",
    "x = np.matrix(data.drop(['Cases','population'],axis=1).dropna())\n",
    "# y = np.matrix((data['Cases'] / data['population']) *1e3)\n",
    "y = np.matrix(data['Cases'])\n",
    "\n",
    "count = 200\n",
    "\n",
    "training_x = x[:count,:]\n",
    "training_y = y[0,:count].T\n",
    "\n",
    "\n",
    "test_x = x[count:,:]\n",
    "test_y = y[0,count:].T\n",
    "\n",
    "\n",
    "\n",
    "\n",
    "classifier = LinearRegression()\n",
    "classifier.fit(training_x,training_y)\n",
    "\n",
    "\n",
    "error = test_y[:,0] - classifier.predict(test_x)\n",
    "# error = test_y[0,:] - test_y[0,:]\n",
    "print ( np.sqrt(np.square(error)).sum()/len(test_y)), \"Mean squared error\"\n",
    "print \"Error\" , error.shape\n"
   ]
  },
  {
   "cell_type": "code",
   "execution_count": 230,
   "metadata": {
    "collapsed": true
   },
   "outputs": [],
   "source": [
    "y = np.matrix((data['Cases'] / data['population']) *1e3)"
   ]
  },
  {
   "cell_type": "code",
   "execution_count": 268,
   "metadata": {
    "collapsed": false
   },
   "outputs": [
    {
     "data": {
      "text/plain": [
       "(90, 1)"
      ]
     },
     "execution_count": 268,
     "metadata": {},
     "output_type": "execute_result"
    }
   ],
   "source": [
    "test_y[:,0].shape"
   ]
  },
  {
   "cell_type": "code",
   "execution_count": 302,
   "metadata": {
    "collapsed": false
   },
   "outputs": [
    {
     "name": "stdout",
     "output_type": "stream",
     "text": [
      "[[ 0.75474704]\n",
      " [ 0.78911675]\n",
      " [ 0.28713143]\n",
      " [ 0.42309399]\n",
      " [ 3.4495029 ]]\n",
      "[[0]\n",
      " [2]\n",
      " [0]\n",
      " [0]\n",
      " [2]]\n"
     ]
    }
   ],
   "source": [
    "print classifier.predict(tex)[0:5]\n",
    "print test_y[0:5]\n"
   ]
  },
  {
   "cell_type": "code",
   "execution_count": 245,
   "metadata": {
    "collapsed": false
   },
   "outputs": [
    {
     "data": {
      "text/plain": [
       "(40, 1)"
      ]
     },
     "execution_count": 245,
     "metadata": {},
     "output_type": "execute_result"
    }
   ],
   "source": [
    "classifier.predict(test_x).shape"
   ]
  },
  {
   "cell_type": "code",
   "execution_count": 251,
   "metadata": {
    "collapsed": false
   },
   "outputs": [
    {
     "data": {
      "text/plain": [
       "array([[  6.27201309e-08,   3.98229128e-04,   1.23525867e-03,\n",
       "         -2.14545824e-03,   3.47648762e-06,   5.98035725e-04,\n",
       "         -9.02876144e-05,  -3.60056101e-07,   2.58358341e-04,\n",
       "          6.09453252e-04,   1.95097963e-04,  -1.02147001e-04,\n",
       "         -1.61910596e-08,  -1.41158055e-04,   1.64828352e-05]])"
      ]
     },
     "execution_count": 251,
     "metadata": {},
     "output_type": "execute_result"
    }
   ],
   "source": [
    "classifier.coef_"
   ]
  },
  {
   "cell_type": "code",
   "execution_count": 283,
   "metadata": {
    "collapsed": false
   },
   "outputs": [
    {
     "data": {
      "text/plain": [
       "0       28074\n",
       "1       38619\n",
       "2       19280\n",
       "3        6375\n",
       "4       13493\n",
       "5        2980\n",
       "6        6471\n",
       "7       25817\n",
       "8       11096\n",
       "9       21582\n",
       "10       9550\n",
       "11       7160\n",
       "12       2436\n",
       "13      14801\n",
       "14      27838\n",
       "15       8562\n",
       "16      26141\n",
       "17      10619\n",
       "18      50023\n",
       "19     105995\n",
       "20      87580\n",
       "21       5278\n",
       "22      12336\n",
       "23       6559\n",
       "24      17114\n",
       "25      14275\n",
       "26       4740\n",
       "27      32222\n",
       "28       9500\n",
       "29       2757\n",
       "        ...  \n",
       "260     33155\n",
       "261     35867\n",
       "262    142131\n",
       "263     85822\n",
       "264     11065\n",
       "265      3617\n",
       "266     28623\n",
       "267     15759\n",
       "268      7096\n",
       "269      9132\n",
       "270      8168\n",
       "271     39866\n",
       "272     12229\n",
       "273      9548\n",
       "274     10420\n",
       "275      9953\n",
       "276      2875\n",
       "277     14927\n",
       "278     11460\n",
       "279     12574\n",
       "280      5174\n",
       "281    140599\n",
       "282      9653\n",
       "283     54986\n",
       "284     59956\n",
       "285     40495\n",
       "286     21352\n",
       "287     13687\n",
       "288      3436\n",
       "289      4709\n",
       "Name: population, dtype: int64"
      ]
     },
     "execution_count": 283,
     "metadata": {},
     "output_type": "execute_result"
    }
   ],
   "source": [
    "data['population']"
   ]
  },
  {
   "cell_type": "code",
   "execution_count": null,
   "metadata": {
    "collapsed": true
   },
   "outputs": [],
   "source": []
  }
 ],
 "metadata": {
  "kernelspec": {
   "display_name": "Python [deeplearning]",
   "language": "python",
   "name": "Python [deeplearning]"
  },
  "language_info": {
   "codemirror_mode": {
    "name": "ipython",
    "version": 2
   },
   "file_extension": ".py",
   "mimetype": "text/x-python",
   "name": "python",
   "nbconvert_exporter": "python",
   "pygments_lexer": "ipython2",
   "version": "2.7.12"
  }
 },
 "nbformat": 4,
 "nbformat_minor": 0
}
